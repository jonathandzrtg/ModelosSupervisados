{
 "cells": [
  {
   "cell_type": "code",
   "execution_count": 5,
   "id": "1d10e6a9",
   "metadata": {},
   "outputs": [
    {
     "name": "stdout",
     "output_type": "stream",
     "text": [
      "La probabilidad de que el paciente tenga COVID-19 dados los sintomas es: 0.9999999998295609\n"
     ]
    }
   ],
   "source": [
    "#Definir las probabilidades condicionales del los sintomas del covid 19\n",
    "p_fatiga_given_covid = 0.90\n",
    "p_tos_seca_given_covid = 0.70\n",
    "p_dificultad_respirar_given_covid = 0.60\n",
    "p_dolor_garganta_given_covid = 0.50\n",
    "p_dolor_cabeza_given_covid = 0.60\n",
    "p_dolor_cuerpo_given_covid = 0.50\n",
    "p_escalofrios_given_covid = 0.40\n",
    "p_secrecion_nasal_given_covid = 0.20\n",
    "p_perdida_sentido_given_covid = 0.50\n",
    "p_fiebre_given_covid = 0.80\n",
    "p_dolor_pecho_given_covid = 0.30\n",
    "\n",
    "#Definir la prevalencia de covid 19 en la poblacion\n",
    "p_covid = 0.05\n",
    "\n",
    "#Definir los sintomas observados en el paciente\n",
    "sintomas = ['Fatiga', 'Tos seca', 'Dificultad para respirar', 'Dolor de garganta', \n",
    "           'Dolor de cabeza', 'Dolor del cuerpo', 'Escalofrios', 'Secrecion nasal',\n",
    "           'Perdida del sentido del olfato o del gusto', 'Fiebre', 'Dolor del pecho']\n",
    "\n",
    "#Calcular la probabilidad de que el paciente tenga covid 19\n",
    "p_sintomas_given_covid = p_fatiga_given_covid * p_tos_seca_given_covid * p_dificultad_respirar_given_covid * \\\n",
    "                         p_dolor_garganta_given_covid * p_dolor_cabeza_given_covid * p_dolor_cuerpo_given_covid * \\\n",
    "                         p_escalofrios_given_covid * p_secrecion_nasal_given_covid * p_perdida_sentido_given_covid * \\\n",
    "                         p_fiebre_given_covid * p_dolor_pecho_given_covid\n",
    "            \n",
    "p_sintomas_given_no_covid = 0.05 **11 #se asume que la probabilidad de tener estos sintomas sin covid es muy baja\n",
    "\n",
    "p_sintomas = p_sintomas_given_covid * p_covid + p_sintomas_given_no_covid * (1 - p_covid)\n",
    "\n",
    "p_covid_given_sintomas = p_sintomas_given_covid * p_covid / p_sintomas\n",
    "\n",
    "print(f\"La probabilidad de que el paciente tenga COVID-19 dados los sintomas es: {p_covid_given_sintomas}\")"
   ]
  },
  {
   "cell_type": "code",
   "execution_count": null,
   "id": "83f89b27",
   "metadata": {},
   "outputs": [],
   "source": []
  }
 ],
 "metadata": {
  "kernelspec": {
   "display_name": "Python 3 (ipykernel)",
   "language": "python",
   "name": "python3"
  },
  "language_info": {
   "codemirror_mode": {
    "name": "ipython",
    "version": 3
   },
   "file_extension": ".py",
   "mimetype": "text/x-python",
   "name": "python",
   "nbconvert_exporter": "python",
   "pygments_lexer": "ipython3",
   "version": "3.9.13"
  }
 },
 "nbformat": 4,
 "nbformat_minor": 5
}
