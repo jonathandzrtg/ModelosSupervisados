{
 "cells": [
  {
   "cell_type": "code",
   "execution_count": 2,
   "id": "9ced023b",
   "metadata": {},
   "outputs": [
    {
     "name": "stdout",
     "output_type": "stream",
     "text": [
      "Accuracy/Exactitud: 86.48%\n"
     ]
    }
   ],
   "source": [
    "import pandas as pd\n",
    "from sklearn.tree import DecisionTreeClassifier\n",
    "from sklearn.model_selection import train_test_split\n",
    "\n",
    "#cargar el dataset\n",
    "df = pd.read_csv('covid.csv')\n",
    "\n",
    "#eliminar filas con valores faltantes\n",
    "df.dropna(inplace=True)\n",
    "\n",
    "#seleccionar la columna de caracteristicas y la columna de etiquetas\n",
    "x = df.iloc[:, :-1]\n",
    "y = df.iloc[:, -1]\n",
    "\n",
    "#convertir variables categóricas en variables numéricas\n",
    "x = pd.get_dummies(x)\n",
    "\n",
    "#dividir el conjunto de datos en conjunto de entrenamiento y pruebas\n",
    "x_train, x_test, y_train, y_test = train_test_split(x, y, test_size=0.2, random_state=42)\n",
    "\n",
    "#crear un modelo de arbol de decision y entrenarlo con el conjunto de datos de entrenamiento\n",
    "clf = DecisionTreeClassifier()\n",
    "clf.fit(x_train, y_train)\n",
    "\n",
    "#evaluar el modelo con el conjunto de datos de prueba\n",
    "score = clf.score(x_test, y_test)\n",
    "print(\"Accuracy/Exactitud: %.2f%%\" % (score * 100.0))"
   ]
  },
  {
   "cell_type": "code",
   "execution_count": null,
   "id": "51d80cba",
   "metadata": {},
   "outputs": [],
   "source": []
  }
 ],
 "metadata": {
  "kernelspec": {
   "display_name": "Python 3 (ipykernel)",
   "language": "python",
   "name": "python3"
  },
  "language_info": {
   "codemirror_mode": {
    "name": "ipython",
    "version": 3
   },
   "file_extension": ".py",
   "mimetype": "text/x-python",
   "name": "python",
   "nbconvert_exporter": "python",
   "pygments_lexer": "ipython3",
   "version": "3.9.13"
  }
 },
 "nbformat": 4,
 "nbformat_minor": 5
}
