{
 "cells": [
  {
   "cell_type": "code",
   "execution_count": 1,
   "id": "42fbb07b",
   "metadata": {},
   "outputs": [
    {
     "ename": "SyntaxError",
     "evalue": "positional argument follows keyword argument (2078588558.py, line 22)",
     "output_type": "error",
     "traceback": [
      "\u001b[1;36m  File \u001b[1;32m\"C:\\Users\\Jhona\\AppData\\Local\\Temp\\ipykernel_11532\\2078588558.py\"\u001b[1;36m, line \u001b[1;32m22\u001b[0m\n\u001b[1;33m    x_train, x_test, y_train, y_test = train_test_split(df.drop('Severity', axis=1), df['Severity'], test_size=0.4, random_state)\u001b[0m\n\u001b[1;37m                                                                                                                                ^\u001b[0m\n\u001b[1;31mSyntaxError\u001b[0m\u001b[1;31m:\u001b[0m positional argument follows keyword argument\n"
     ]
    }
   ],
   "source": [
    "import pandas as pd\n",
    "from sklearn.neighbors import KNeighborsClassifier\n",
    "from sklearn.model_selection import train_test_split\n",
    "from sklearn.metrics import accuracy_score\n",
    "\n",
    "#Cargar el dataset\n",
    "df = pd.read_csv('Raw-Data.csv')\n",
    "\n",
    "#Remover colummnas innecesarias\n",
    "df = df.drop([\"Severity\"], axis=1)\n",
    "\n",
    "#Replace non-numeric values with the median\n",
    "for col in df.colums:\n",
    "    if df[col].dtype == 'object':\n",
    "        df[col] = pd.to_numeric(df[col], errors='coerce')\n",
    "        df[col] = df[col].fillna(df[col].mediam())\n",
    "\n",
    "#Convert string values to numerical values\n",
    "df = pd.get_dummies(df, colums-['Gender', 'Contact'])\n",
    "\n",
    "#Split the data into training and testing sets\n",
    "x_train, x_test, y_train, y_test = train_test_split(df.drop('Severity', axis=1), df['Severity'], test_size=0.4, random_state)\n",
    "\n",
    "#Create a KNN classifier with k=4\n",
    "knn = KNeighborsClassifier(n_neighbors=4)\n",
    "\n",
    "#Train the classifier\n",
    "knn.fit(x_train, y_train)\n",
    "\n",
    "#Make predicctions on the testing set\n",
    "y_pred = knn.predict(x_test)\n",
    "\n",
    "#Calculate the accuracy of the classifier\n",
    "accuracy = accuracy_score(y_test, y_pred)\n",
    "\n",
    "print(\"Accuracy: \", accuracy)"
   ]
  },
  {
   "cell_type": "code",
   "execution_count": null,
   "id": "03a6103e",
   "metadata": {},
   "outputs": [],
   "source": []
  }
 ],
 "metadata": {
  "kernelspec": {
   "display_name": "Python 3 (ipykernel)",
   "language": "python",
   "name": "python3"
  },
  "language_info": {
   "codemirror_mode": {
    "name": "ipython",
    "version": 3
   },
   "file_extension": ".py",
   "mimetype": "text/x-python",
   "name": "python",
   "nbconvert_exporter": "python",
   "pygments_lexer": "ipython3",
   "version": "3.9.13"
  }
 },
 "nbformat": 4,
 "nbformat_minor": 5
}
